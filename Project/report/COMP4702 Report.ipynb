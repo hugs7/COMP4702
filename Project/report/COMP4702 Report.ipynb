{
 "cells": [
  {
   "cell_type": "markdown",
   "id": "08aa1125-a7f9-4096-96d8-b848fd86d153",
   "metadata": {},
   "source": [
    "COMP4702 Report\n",
    "================\n",
    "\n",
    "Student: Hugo Burton\n",
    "\n",
    "Date Due: Friday $24^{\\text{th}}$ May 2024"
   ]
  },
  {
   "cell_type": "code",
   "execution_count": 5,
   "id": "f7a24d3c-04a2-4d49-b800-fbd93b73c621",
   "metadata": {},
   "outputs": [
    {
     "name": "stdout",
     "output_type": "stream",
     "text": [
      "D:\\Hugo Burton\\Documents\\University (2021 - 2024)\\2024 Semester 1\\COMP4702\\COMP4702\\Project\\report\n",
      "Log level found LOG_LEVEL=INFO\n",
      "\n",
      "welcoome\n",
      "\u001b[92mWelcome to the Machine Learning Project\n",
      "\u001b[0m\u001b[96mTorch version:  2.2.1+cpu\n",
      "\u001b[0m\u001b[33mCUDA is not available\n",
      "\u001b[0m--------------------------------------------------\n",
      "\u001b[96mPython version: \u001b[0m\u001b[37m3.10.11 (tags/v3.10.11:7d4cc5a, Apr  5 2023, 00:38:17) [MSC v.1929 64 bit (AMD64)]\n",
      "\u001b[0m\u001b[96mNumpy version: \u001b[0m\u001b[37m1.22.4\n",
      "\u001b[0m\u001b[96mSeaborn version: \u001b[0m\u001b[37m0.13.2\n",
      "\u001b[0m--------------------------------------------------\n"
     ]
    }
   ],
   "source": [
    "import os\n",
    "import sys\n",
    "sys.path.append('..')\n",
    "\n",
    "current_dir = os.getcwd()\n",
    "print(current_dir)\n",
    "\n",
    "from welcome import welcome, available_items\n",
    "from check_log_level import set_log_level\n",
    "\n",
    "set_log_level()\n",
    "welcome()\n"
   ]
  },
  {
   "cell_type": "markdown",
   "id": "301c10bd-44a3-4765-8de8-e6cf4b27ad83",
   "metadata": {},
   "source": [
    "# Introduction\n",
    "\n",
    "## Introduction to the dataaset\n",
    "\n",
    "The ..."
   ]
  },
  {
   "cell_type": "markdown",
   "id": "652b9dcf-3786-4434-9893-d5c04206449c",
   "metadata": {},
   "source": [
    "### Quantitative Metrics on the dataset\n",
    "\n",
    "\n",
    "\n",
    "Summary statistics"
   ]
  },
  {
   "cell_type": "markdown",
   "id": "ded27d65-a7a1-4e93-95fb-a595e31ad602",
   "metadata": {},
   "source": [
    "### Correlelation Matrix\n",
    "\n"
   ]
  },
  {
   "cell_type": "markdown",
   "id": "c5b87514-fc45-4171-b84d-b65024e752c1",
   "metadata": {},
   "source": [
    "## Objective\n",
    "\n",
    "- Classify both the **Species** and **Population** of the fruit flies within the dataset using the remaining datapoints.\n",
    "- Across the three datasets, merge the parameters together then apply the models and rank the attributes in descending order of importance. Additionally, show the top variables in a visual format.\n",
    "- Find the classification model which performs the best and discuss reasoning for any findings."
   ]
  },
  {
   "cell_type": "markdown",
   "id": "30ff1be0-1c7c-498f-8a25-80eecc6a41ab",
   "metadata": {},
   "source": [
    "# Models\n",
    "\n",
    "The objective defined above is related to classification of the Loeschcke dataset, meaning only classification models will be used. In this report, the following classifiers are:\n",
    "- $k$-NN\n",
    "- Decision Tree > Random Forest\n",
    "- Neural Network\n",
    "\n",
    "\n",
    "Each model will be tested equally on the dataset\n",
    "\n",
    "Techniques will be applied in order to optimise the performance of each model."
   ]
  },
  {
   "cell_type": "markdown",
   "id": "c235d4ad-0146-4b49-8dad-8c334c6e81e2",
   "metadata": {},
   "source": [
    "## Cross validation setup (maybe)"
   ]
  },
  {
   "cell_type": "code",
   "execution_count": null,
   "id": "7b3a6440-a7e3-4aa9-aa8d-4478d9255842",
   "metadata": {},
   "outputs": [],
   "source": []
  },
  {
   "cell_type": "markdown",
   "id": "924d3aec-709a-4f1d-ba67-851814dbc1ff",
   "metadata": {},
   "source": [
    "# $k$-NN"
   ]
  },
  {
   "cell_type": "markdown",
   "id": "13926f68-c1b6-4392-85e9-f33b65c51f88",
   "metadata": {},
   "source": [
    "# Decision Tree"
   ]
  },
  {
   "cell_type": "markdown",
   "id": "3c52a48d-4e25-45bc-abc3-8fa4b108c55d",
   "metadata": {},
   "source": [
    "# Neural Network\n",
    "\n"
   ]
  },
  {
   "cell_type": "markdown",
   "id": "8740d70c-6d00-4cc3-a432-f7e68121c5dd",
   "metadata": {},
   "source": [
    "## Ranking of Predictor Variables\n"
   ]
  },
  {
   "cell_type": "markdown",
   "id": "d8d0919b-7aa5-41e2-9553-ff9ee18b896f",
   "metadata": {},
   "source": [
    "# Decision Boundaries"
   ]
  },
  {
   "cell_type": "markdown",
   "id": "73fe01da-34b2-4f3a-b54e-ba67d0e3bcc8",
   "metadata": {},
   "source": [
    "## Certainty of Classification"
   ]
  },
  {
   "cell_type": "markdown",
   "id": "26d74107-73fc-4a4c-9b01-1c52bc56e09e",
   "metadata": {},
   "source": [
    "# Ranking of Classifier Models\n",
    "\n",
    "The best classifications occur when the certainty is high and the prediction of class is correct. One sample from the\n",
    "test set was chosen from each classifier for each true class which had maximum certainty and the prediction was\n",
    "correct. The results are outlined below."
   ]
  },
  {
   "cell_type": "markdown",
   "id": "c0331049-44fc-4806-a49d-7535c5a1743d",
   "metadata": {},
   "source": [
    "# Worst Errors\n"
   ]
  },
  {
   "cell_type": "markdown",
   "id": "a3dbb187-dddd-47bd-b29b-9efea51f2397",
   "metadata": {},
   "source": [
    "# Conclusion"
   ]
  },
  {
   "cell_type": "markdown",
   "id": "3c8077fe-5dad-4768-94bc-e070d78f1d83",
   "metadata": {},
   "source": [
    "# References"
   ]
  },
  {
   "cell_type": "markdown",
   "id": "483e6488-b47f-4e93-91f6-251084444740",
   "metadata": {},
   "source": [
    "# Appendix"
   ]
  }
 ],
 "metadata": {
  "kernelspec": {
   "display_name": "Python 3 (ipykernel)",
   "language": "python",
   "name": "python3"
  },
  "language_info": {
   "codemirror_mode": {
    "name": "ipython",
    "version": 3
   },
   "file_extension": ".py",
   "mimetype": "text/x-python",
   "name": "python",
   "nbconvert_exporter": "python",
   "pygments_lexer": "ipython3",
   "version": "3.10.11"
  }
 },
 "nbformat": 4,
 "nbformat_minor": 5
}
