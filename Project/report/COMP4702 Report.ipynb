{
 "cells": [
  {
   "cell_type": "markdown",
   "id": "08aa1125-a7f9-4096-96d8-b848fd86d153",
   "metadata": {},
   "source": [
    "COMP4702 Report\n",
    "================\n",
    "\n",
    "Student: Hugo Burton\n",
    "\n",
    "Date Due: Friday $24^{\\text{th}}$ May 2024"
   ]
  },
  {
   "cell_type": "code",
   "execution_count": 1,
   "id": "f7a24d3c-04a2-4d49-b800-fbd93b73c621",
   "metadata": {},
   "outputs": [
    {
     "name": "stdout",
     "output_type": "stream",
     "text": [
      "D:\\Hugo Burton\\Documents\\University (2021 - 2024)\\2024 Semester 1\\COMP4702\\COMP4702\\Project\\report\n",
      "Log level found LOG_LEVEL=INFO\n",
      "\n",
      "\u001b[92mWelcome to the Machine Learning Project\n",
      "\u001b[0m\u001b[96mTorch version:  2.2.1+cpu\n",
      "\u001b[0m\u001b[33mCUDA is not available\n",
      "\u001b[0m--------------------------------------------------\n",
      "\u001b[96mPython version: \u001b[0m\u001b[37m3.10.11 (tags/v3.10.11:7d4cc5a, Apr  5 2023, 00:38:17) [MSC v.1929 64 bit (AMD64)]\n",
      "\u001b[0m\u001b[96mNumpy version: \u001b[0m\u001b[37m1.22.4\n",
      "\u001b[0m\u001b[96mSeaborn version: \u001b[0m\u001b[37m0.13.2\n",
      "\u001b[0m--------------------------------------------------\n"
     ]
    }
   ],
   "source": [
    "import os\n",
    "import sys\n",
    "sys.path.append('..')\n",
    "\n",
    "current_dir = os.getcwd()\n",
    "print(current_dir)\n",
    "\n",
    "from welcome import welcome, available_items\n",
    "from check_log_level import set_log_level\n",
    "\n",
    "set_log_level()\n",
    "welcome()\n"
   ]
  },
  {
   "cell_type": "markdown",
   "id": "301c10bd-44a3-4765-8de8-e6cf4b27ad83",
   "metadata": {},
   "source": [
    "# Introduction\n",
    "\n",
    "## Introduction to the dataaset\n",
    "\n",
    "This report is an investigation into the quantitative traits of fruit flies, known scientifically as the species _Drosophila aldrichi_ and _D. buzzatii_. The data, collected in 1994 captures a range of traits of $n = 1731$ flies located on the East coast of Australia. The attached report on the dataset aims to contribute to understanding the factors driving latitudinal variation in size-related traits in the two species, considering both genetic adaptation and phenotypic plasticity in response to environmental conditions.\n",
    "\n",
    "Fruit flies are a pest to many kinds of agriculture. Adult female flies lay their eggs within fruit and vegetable crops leading to their larvae hatching inside. These larvae then proceed to each the fruit from the inside out, causing rotting and thus destroying the crop. (Department of Agriculture, 2023)"
   ]
  },
  {
   "cell_type": "markdown",
   "id": "652b9dcf-3786-4434-9893-d5c04206449c",
   "metadata": {},
   "source": [
    "### Quantitative Metrics on the dataset\n",
    "\n",
    "\n",
    "\n",
    "Summary statistics"
   ]
  },
  {
   "cell_type": "markdown",
   "id": "538cf7a8-800f-40b9-99b9-da2ed520df33",
   "metadata": {},
   "source": [
    "Prior to determining an objective for this report, the dataset was analysed from a purely morphological perspective.\n",
    "\n",
    "## Thorax and Wing Traits Dataset\n",
    "\n",
    "A correlation plot of the `Thorax & wing traits` dataset is shown below. Evidently the columns species, population, temperature and sex all show a small magnitude of correlation with columns Thorax length through to wing_loading. \n",
    "\n",
    "Longitude and lattitude do show some correlation (other than with each other) - this could be interesting to investigate, though may not produce the best results from a classifier with this data alone.\n",
    "\n",
    "The columns `Thorax_length` through to `wing_loading` show a highly positive correlation as seen in the bottom-right of the matrix, indicating these variables are very tightly related to each other. For example, we could say a fly with a higher than average Thorax length also very likely has a higher then average wing loading.\n",
    "\n",
    "We note some columns as having no correlation with any other columns, namely `year_start` and `year_end`. Looking at the raw data, we see these are constant for all rows. In any analysis it would be a good decision to strip these from the model as they don't provide any additional information for classification purposes."
   ]
  },
  {
   "cell_type": "markdown",
   "id": "ded27d65-a7a1-4e93-95fb-a595e31ad602",
   "metadata": {},
   "source": [
    "### Thorax Correlation matrix\n",
    "\n",
    "<img src=\"..\\plots\\Thorax_corr_matrix.png\" width=\"700\">\n",
    "\n"
   ]
  },
  {
   "cell_type": "markdown",
   "id": "5f0b030e-0dac-4d02-bb61-60bf2b9e85b3",
   "metadata": {},
   "source": [
    "The Wing Traits and Asymmetry dataset does show correlation between each of the wing asymmetry traits, however, it shows little to no correlation between wing asymmetry and species and population. Meaning it is potentially not a good candidate dataset for making predictions about the fly's species and population."
   ]
  },
  {
   "cell_type": "markdown",
   "id": "e79481be-6245-4b8d-902d-f12bf88c0dcb",
   "metadata": {},
   "source": [
    "\n",
    "### Wing Traits and Asymmetry Correlation Matrix\n",
    "\n",
    "<img src=\"..\\plots\\Wing_asymmetry_corr_matrix.png\" width=\"700\">\n"
   ]
  },
  {
   "cell_type": "markdown",
   "id": "e8a6b0ac-b334-4d6a-a0cb-192e339c2f85",
   "metadata": {},
   "source": [
    "The `Wing Asymmetry`  dataset (which has different asymmetry traits from the previous dataset) does show signs of correlation between wing attributes and species & population, though this isn't as strong as the first dataset. It may, however, be a good candidate for determining temperature if that were of interest."
   ]
  },
  {
   "cell_type": "markdown",
   "id": "c303336a-113f-4b4c-9fa1-e4331dc5cb0b",
   "metadata": {},
   "source": [
    "### Wing Asymmetry Correlation Matrix\n",
    "\n",
    "<img src=\"..\\plots\\Wing_traits_corr_matrix.png\" width=\"700\">\n"
   ]
  },
  {
   "cell_type": "markdown",
   "id": "c5b87514-fc45-4171-b84d-b65024e752c1",
   "metadata": {},
   "source": [
    "## Objective\n",
    "\n",
    "While the report attached to these datasets (not this report) does provide explanation of what it is investigating, it does not provide detail on the reasoning behind doing so, other than simply to contribute to knowledge. This report will attempt to develop models which can classify both the **Species** and **Population** of fruit flies given the remaining variables collected. <!--While not covered in the attached report, knowing which species and population a fruit fly in its natural habitat belongs to may be helpful understanding its behaviour-->\n",
    "\n",
    "Secondly, this report will attempt to perform feature selection by first ranking the input variables in descending order of importance. The top important variables will then be sliced from the dataset and used in a second round of classification for each model. Finally, comparisons can then be made between the models trained with all attributes, and models trained with the supposedly redundant attributes removed.\n",
    "\n",
    "Finally, the report will determine a classifier which performs the best for the above object and discuss reasoning for any findings."
   ]
  },
  {
   "cell_type": "markdown",
   "id": "30ff1be0-1c7c-498f-8a25-80eecc6a41ab",
   "metadata": {},
   "source": [
    "# Models\n",
    "\n",
    "The objective defined above is related to classification of the Loeschcke dataset, meaning only classification models will be used. In this report, the following classifiers are:\n",
    "- $k$-NN\n",
    "- Decision Tree\n",
    "- Neural Network\n",
    "\n",
    "\n",
    "Where possible each model will be tested equally on the dataset. Note that in the case of a neural network, a single network can output multiple variables. However, this is not possible with $k$-NN or a decision tree, hence multiple classifiers will be instantiated and combined in order to make these predictions.\n"
   ]
  },
  {
   "cell_type": "markdown",
   "id": "924d3aec-709a-4f1d-ba67-851814dbc1ff",
   "metadata": {},
   "source": [
    "## $k$-NN\n",
    "\n"
   ]
  },
  {
   "cell_type": "markdown",
   "id": "13926f68-c1b6-4392-85e9-f33b65c51f88",
   "metadata": {},
   "source": [
    "## Decision Tree"
   ]
  },
  {
   "cell_type": "markdown",
   "id": "3c52a48d-4e25-45bc-abc3-8fa4b108c55d",
   "metadata": {},
   "source": [
    "## Neural Network\n",
    "\n"
   ]
  },
  {
   "cell_type": "markdown",
   "id": "8740d70c-6d00-4cc3-a432-f7e68121c5dd",
   "metadata": {},
   "source": [
    "# Ranking of Predictor Variables\n"
   ]
  },
  {
   "cell_type": "markdown",
   "id": "d8d0919b-7aa5-41e2-9553-ff9ee18b896f",
   "metadata": {},
   "source": [
    "# Decision Boundaries"
   ]
  },
  {
   "cell_type": "markdown",
   "id": "73fe01da-34b2-4f3a-b54e-ba67d0e3bcc8",
   "metadata": {},
   "source": [
    "## Certainty of Classification"
   ]
  },
  {
   "cell_type": "markdown",
   "id": "26d74107-73fc-4a4c-9b01-1c52bc56e09e",
   "metadata": {},
   "source": [
    "# Ranking of Classifier Models\n",
    "\n",
    "The best classifications occur when the certainty is high and the prediction of class is correct. One sample from the\n",
    "test set was chosen from each classifier for each true class which had maximum certainty and the prediction was\n",
    "correct. The results are outlined below."
   ]
  },
  {
   "cell_type": "markdown",
   "id": "c0331049-44fc-4806-a49d-7535c5a1743d",
   "metadata": {},
   "source": [
    "# Worst Errors\n"
   ]
  },
  {
   "cell_type": "markdown",
   "id": "a3dbb187-dddd-47bd-b29b-9efea51f2397",
   "metadata": {},
   "source": [
    "# Conclusion"
   ]
  },
  {
   "cell_type": "markdown",
   "id": "3c8077fe-5dad-4768-94bc-e070d78f1d83",
   "metadata": {},
   "source": [
    "# References (yet to compile)\n",
    "\n",
    "1. https://www.agriculture.gov.au/biosecurity-trade/pests-diseases-weeds/fruit-flies-australia"
   ]
  },
  {
   "cell_type": "markdown",
   "id": "483e6488-b47f-4e93-91f6-251084444740",
   "metadata": {},
   "source": [
    "# Appendix"
   ]
  }
 ],
 "metadata": {
  "kernelspec": {
   "display_name": "Python 3 (ipykernel)",
   "language": "python",
   "name": "python3"
  },
  "language_info": {
   "codemirror_mode": {
    "name": "ipython",
    "version": 3
   },
   "file_extension": ".py",
   "mimetype": "text/x-python",
   "name": "python",
   "nbconvert_exporter": "python",
   "pygments_lexer": "ipython3",
   "version": "3.10.11"
  }
 },
 "nbformat": 4,
 "nbformat_minor": 5
}
