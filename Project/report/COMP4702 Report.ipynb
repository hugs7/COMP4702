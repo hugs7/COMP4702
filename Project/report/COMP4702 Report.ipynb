{
 "cells": [
  {
   "cell_type": "markdown",
   "id": "08aa1125-a7f9-4096-96d8-b848fd86d153",
   "metadata": {},
   "source": [
    "COMP4702 Report\n",
    "================\n",
    "\n",
    "Student: Hugo Burton\n",
    "\n",
    "Date Due: Friday $24^{\\text{th}}$ May 2024"
   ]
  },
  {
   "cell_type": "markdown",
   "id": "c5b87514-fc45-4171-b84d-b65024e752c1",
   "metadata": {},
   "source": [
    "# Objective\n",
    "\n",
    "- Classify both the **Species** and **Population** of the fruit flies within the dataset using the remaining datapoints.\n",
    "- Across the three datasets, merge the parameters together then apply the models and rank the attributes in descending order of importance. Additionally, show the top variables in a visual format.\n",
    "- Find the classification model which performs the best and discuss reasoning for any findings."
   ]
  },
  {
   "cell_type": "markdown",
   "id": "30ff1be0-1c7c-498f-8a25-80eecc6a41ab",
   "metadata": {},
   "source": [
    "# Models\n",
    "\n",
    "The models being considered in this report are\n",
    "- $k$-NN\n",
    "- Decision Tree > Random Forest\n",
    "- Neural Network\n",
    "\n",
    "\n",
    "Each model will be tested equally on the dataset\n",
    "\n",
    "Techniques will be applied in order to optimise the performance of each model."
   ]
  },
  {
   "cell_type": "markdown",
   "id": "924d3aec-709a-4f1d-ba67-851814dbc1ff",
   "metadata": {},
   "source": [
    "# $k$-NN"
   ]
  },
  {
   "cell_type": "markdown",
   "id": "13926f68-c1b6-4392-85e9-f33b65c51f88",
   "metadata": {},
   "source": [
    "# Decision Tree"
   ]
  },
  {
   "cell_type": "markdown",
   "id": "3c52a48d-4e25-45bc-abc3-8fa4b108c55d",
   "metadata": {},
   "source": [
    "# Neural Network\n",
    "\n"
   ]
  },
  {
   "cell_type": "markdown",
   "id": "a3dbb187-dddd-47bd-b29b-9efea51f2397",
   "metadata": {},
   "source": [
    "# Conclusion"
   ]
  },
  {
   "cell_type": "markdown",
   "id": "3c8077fe-5dad-4768-94bc-e070d78f1d83",
   "metadata": {},
   "source": [
    "# References"
   ]
  },
  {
   "cell_type": "markdown",
   "id": "483e6488-b47f-4e93-91f6-251084444740",
   "metadata": {},
   "source": [
    "# Appendix"
   ]
  }
 ],
 "metadata": {
  "kernelspec": {
   "display_name": "Python 3 (ipykernel)",
   "language": "python",
   "name": "python3"
  },
  "language_info": {
   "codemirror_mode": {
    "name": "ipython",
    "version": 3
   },
   "file_extension": ".py",
   "mimetype": "text/x-python",
   "name": "python",
   "nbconvert_exporter": "python",
   "pygments_lexer": "ipython3",
   "version": "3.12.3"
  }
 },
 "nbformat": 4,
 "nbformat_minor": 5
}
